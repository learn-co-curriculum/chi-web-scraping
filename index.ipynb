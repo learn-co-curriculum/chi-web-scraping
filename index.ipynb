{
 "cells": [
  {
   "cell_type": "markdown",
   "metadata": {},
   "source": [
    "# Web Scraping Review! \n",
    "\n",
    "<img src=https://media.giphy.com/media/U4FkC2VqpeNRHjTDQ5/giphy.gif width=\"500px\"></img>\n",
    "\n",
    "\n",
    "## There's been a lot of talk about web scraping lately. \n",
    "So let's work through a web scraping problem as a refresher. \n",
    "\n",
    "    \n",
    "### Goals:\n",
    "1. Retrieve the HTML of a webpage with the `requests` library.\n",
    "2. Introduction to the `tree` structure of `HTML`.\n",
    "3. Use the `inspect` tool to sift through the HTML.\n",
    "4. Parse HTML with the `BeautifulSoup` library.\n",
    "5. Store data in a `csv` file using the `Pandas` library.\n",
    "\n",
    "# Let's scrape some data!\n",
    "The data we are scraping today will be from the [Quotes to Scrape](http://quotes.toscrape.com/) website.\n",
    "\n",
    "\n",
    "## Step 1:\n",
    "> **Import the necessary tools for our project**\n",
    "\n",
    "![](https://media.giphy.com/media/KcE7Dq5f8TTXzZ1LAF/giphy.gif)\n"
   ]
  },
  {
   "cell_type": "code",
   "execution_count": null,
   "metadata": {
    "ExecuteTime": {
     "end_time": "2020-07-19T22:34:28.023498Z",
     "start_time": "2020-07-19T22:34:27.405317Z"
    }
   },
   "outputs": [],
   "source": [
    "# Webscraping\n",
    "import requests\n",
    "from bs4 import BeautifulSoup\n",
    "\n",
    "# Data organization\n",
    "import pandas as pd\n",
    "\n",
    "# Visualization\n",
    "import matplotlib.pyplot as plt\n",
    "plt.rcParams.update({'font.size': 22})\n",
    "\n",
    "from test_scripts.test_class import Test\n",
    "test = Test()"
   ]
  },
  {
   "cell_type": "code",
<<<<<<< HEAD
   "execution_count": null,
   "metadata": {},
=======
   "execution_count": 1,
   "metadata": {
    "ExecuteTime": {
     "end_time": "2020-07-19T22:34:34.667540Z",
     "start_time": "2020-07-19T22:34:33.996698Z"
    }
   },
>>>>>>> c2db2e25f3cd8499c77c647e415dc63629c5f6c3
   "outputs": [],
   "source": [
    "# __SOLUTION__\n",
    "# Webscraping\n",
    "import requests\n",
    "from bs4 import BeautifulSoup\n",
    "\n",
    "# Data organization\n",
    "import pandas as pd\n",
    "\n",
    "# Visualization\n",
    "import matplotlib.pyplot as plt\n",
    "plt.rcParams.update({'font.size': 22})\n",
    "\n",
    "from test_scripts.test_class import Test\n",
    "test = Test()"
   ]
  },
  {
   "cell_type": "markdown",
   "metadata": {},
   "source": [
    "## Step 2\n",
    "> **We use the `requests` library to connect to the website we wish to scrape.**\n",
    "\n",
    "<img src='https://media.giphy.com/media/eCwAEs05phtK/giphy.gif' width='300'></img>"
   ]
  },
  {
   "cell_type": "code",
   "execution_count": null,
   "metadata": {
    "ExecuteTime": {
     "end_time": "2020-07-10T16:44:52.105946Z",
     "start_time": "2020-07-10T16:44:51.803036Z"
    }
   },
   "outputs": [],
   "source": [
    "url = 'http://quotes.toscrape.com'\n",
    "response = requests.get(url)\n",
    "response"
   ]
  },
  {
   "cell_type": "code",
<<<<<<< HEAD
   "execution_count": null,
   "metadata": {},
   "outputs": [],
=======
   "execution_count": 2,
   "metadata": {
    "ExecuteTime": {
     "end_time": "2020-07-19T22:34:37.031151Z",
     "start_time": "2020-07-19T22:34:36.610797Z"
    }
   },
   "outputs": [
    {
     "data": {
      "text/plain": [
       "<Response [200]>"
      ]
     },
     "execution_count": 2,
     "metadata": {},
     "output_type": "execute_result"
    }
   ],
>>>>>>> c2db2e25f3cd8499c77c647e415dc63629c5f6c3
   "source": [
    "# __SOLUTION__\n",
    "url = 'http://quotes.toscrape.com'\n",
    "response = requests.get(url)\n",
    "response"
   ]
  },
  {
   "cell_type": "markdown",
   "metadata": {},
   "source": [
    "✅**A `Response 200` means our request was sucessful!** ✅\n",
    "\n",
<<<<<<< HEAD
    "❌  Let's take a quick look at an *unsuccessful* response. ❌"
=======
    "❌Let's take a quick look at an *unsuccessful* response. ❌"
>>>>>>> c2db2e25f3cd8499c77c647e415dc63629c5f6c3
   ]
  },
  {
   "cell_type": "code",
   "execution_count": null,
   "metadata": {
    "ExecuteTime": {
     "end_time": "2020-07-10T16:45:00.840806Z",
     "start_time": "2020-07-10T16:45:00.571721Z"
    }
   },
   "outputs": [],
   "source": [
    "bad_url = 'http://quotes.toscrape.com/20'\n",
    "requests.get(bad_url)"
   ]
  },
  {
   "cell_type": "code",
<<<<<<< HEAD
   "execution_count": null,
   "metadata": {},
   "outputs": [],
=======
   "execution_count": 3,
   "metadata": {
    "ExecuteTime": {
     "end_time": "2020-07-19T22:34:38.715661Z",
     "start_time": "2020-07-19T22:34:38.459024Z"
    }
   },
   "outputs": [
    {
     "data": {
      "text/plain": [
       "<Response [404]>"
      ]
     },
     "execution_count": 3,
     "metadata": {},
     "output_type": "execute_result"
    }
   ],
>>>>>>> c2db2e25f3cd8499c77c647e415dc63629c5f6c3
   "source": [
    "# __SOLUTION__\n",
    "bad_url = 'http://quotes.toscrape.com/20'\n",
    "requests.get(bad_url)"
   ]
  },
  {
   "cell_type": "markdown",
   "metadata": {},
   "source": [
    "**A `Response 404` means that the url you are using in your request is not pointing to a valid webpage.**\n",
    "\n",
    "<img src='https://media.giphy.com/media/VwoJkTfZAUBSU/giphy.gif' width='300'></img>"
   ]
  },
  {
   "cell_type": "markdown",
   "metadata": {},
   "source": [
    "## Step 3\n",
    "> **We collect the html from the website by adding `.text` to the end of the response variable.** "
   ]
  },
  {
   "cell_type": "code",
   "execution_count": null,
   "metadata": {
    "ExecuteTime": {
     "end_time": "2020-07-10T16:46:24.428053Z",
     "start_time": "2020-07-10T16:46:24.423335Z"
    }
   },
   "outputs": [],
   "source": [
    "html = response.text\n",
    "html[:50]"
   ]
  },
  {
   "cell_type": "code",
<<<<<<< HEAD
   "execution_count": null,
   "metadata": {},
   "outputs": [],
=======
   "execution_count": 4,
   "metadata": {
    "ExecuteTime": {
     "end_time": "2020-07-19T22:34:40.887788Z",
     "start_time": "2020-07-19T22:34:40.884324Z"
    }
   },
   "outputs": [
    {
     "data": {
      "text/plain": [
       "'<!DOCTYPE html>\\n<html lang=\"en\">\\n<head>\\n\\t<meta cha'"
      ]
     },
     "execution_count": 4,
     "metadata": {},
     "output_type": "execute_result"
    }
   ],
>>>>>>> c2db2e25f3cd8499c77c647e415dc63629c5f6c3
   "source": [
    "# __SOLUTION__\n",
    "html = response.text\n",
    "html[:50]"
   ]
  },
  {
   "cell_type": "markdown",
   "metadata": {},
   "source": [
    "## Step 4\n",
    "> **We use `BeautifulSoup` to turn the html into something we can manipulate.**"
   ]
  },
  {
   "cell_type": "code",
   "execution_count": null,
   "metadata": {
    "ExecuteTime": {
     "end_time": "2020-07-10T16:47:31.277945Z",
     "start_time": "2020-07-10T16:47:31.236323Z"
    }
   },
   "outputs": [],
   "source": [
    "soup = BeautifulSoup(html, 'lxml')\n",
    "soup"
   ]
  },
  {
   "cell_type": "code",
<<<<<<< HEAD
   "execution_count": null,
   "metadata": {},
   "outputs": [],
=======
   "execution_count": 5,
   "metadata": {
    "ExecuteTime": {
     "end_time": "2020-07-19T22:34:42.820747Z",
     "start_time": "2020-07-19T22:34:42.788771Z"
    }
   },
   "outputs": [
    {
     "data": {
      "text/plain": [
       "<!DOCTYPE html>\n",
       "<html lang=\"en\">\n",
       "<head>\n",
       "<meta charset=\"utf-8\"/>\n",
       "<title>Quotes to Scrape</title>\n",
       "<link href=\"/static/bootstrap.min.css\" rel=\"stylesheet\"/>\n",
       "<link href=\"/static/main.css\" rel=\"stylesheet\"/>\n",
       "</head>\n",
       "<body>\n",
       "<div class=\"container\">\n",
       "<div class=\"row header-box\">\n",
       "<div class=\"col-md-8\">\n",
       "<h1>\n",
       "<a href=\"/\" style=\"text-decoration: none\">Quotes to Scrape</a>\n",
       "</h1>\n",
       "</div>\n",
       "<div class=\"col-md-4\">\n",
       "<p>\n",
       "<a href=\"/login\">Login</a>\n",
       "</p>\n",
       "</div>\n",
       "</div>\n",
       "<div class=\"row\">\n",
       "<div class=\"col-md-8\">\n",
       "<div class=\"quote\" itemscope=\"\" itemtype=\"http://schema.org/CreativeWork\">\n",
       "<span class=\"text\" itemprop=\"text\">“The world as we have created it is a process of our thinking. It cannot be changed without changing our thinking.”</span>\n",
       "<span>by <small class=\"author\" itemprop=\"author\">Albert Einstein</small>\n",
       "<a href=\"/author/Albert-Einstein\">(about)</a>\n",
       "</span>\n",
       "<div class=\"tags\">\n",
       "            Tags:\n",
       "            <meta class=\"keywords\" content=\"change,deep-thoughts,thinking,world\" itemprop=\"keywords\"/>\n",
       "<a class=\"tag\" href=\"/tag/change/page/1/\">change</a>\n",
       "<a class=\"tag\" href=\"/tag/deep-thoughts/page/1/\">deep-thoughts</a>\n",
       "<a class=\"tag\" href=\"/tag/thinking/page/1/\">thinking</a>\n",
       "<a class=\"tag\" href=\"/tag/world/page/1/\">world</a>\n",
       "</div>\n",
       "</div>\n",
       "<div class=\"quote\" itemscope=\"\" itemtype=\"http://schema.org/CreativeWork\">\n",
       "<span class=\"text\" itemprop=\"text\">“It is our choices, Harry, that show what we truly are, far more than our abilities.”</span>\n",
       "<span>by <small class=\"author\" itemprop=\"author\">J.K. Rowling</small>\n",
       "<a href=\"/author/J-K-Rowling\">(about)</a>\n",
       "</span>\n",
       "<div class=\"tags\">\n",
       "            Tags:\n",
       "            <meta class=\"keywords\" content=\"abilities,choices\" itemprop=\"keywords\"/>\n",
       "<a class=\"tag\" href=\"/tag/abilities/page/1/\">abilities</a>\n",
       "<a class=\"tag\" href=\"/tag/choices/page/1/\">choices</a>\n",
       "</div>\n",
       "</div>\n",
       "<div class=\"quote\" itemscope=\"\" itemtype=\"http://schema.org/CreativeWork\">\n",
       "<span class=\"text\" itemprop=\"text\">“There are only two ways to live your life. One is as though nothing is a miracle. The other is as though everything is a miracle.”</span>\n",
       "<span>by <small class=\"author\" itemprop=\"author\">Albert Einstein</small>\n",
       "<a href=\"/author/Albert-Einstein\">(about)</a>\n",
       "</span>\n",
       "<div class=\"tags\">\n",
       "            Tags:\n",
       "            <meta class=\"keywords\" content=\"inspirational,life,live,miracle,miracles\" itemprop=\"keywords\"/>\n",
       "<a class=\"tag\" href=\"/tag/inspirational/page/1/\">inspirational</a>\n",
       "<a class=\"tag\" href=\"/tag/life/page/1/\">life</a>\n",
       "<a class=\"tag\" href=\"/tag/live/page/1/\">live</a>\n",
       "<a class=\"tag\" href=\"/tag/miracle/page/1/\">miracle</a>\n",
       "<a class=\"tag\" href=\"/tag/miracles/page/1/\">miracles</a>\n",
       "</div>\n",
       "</div>\n",
       "<div class=\"quote\" itemscope=\"\" itemtype=\"http://schema.org/CreativeWork\">\n",
       "<span class=\"text\" itemprop=\"text\">“The person, be it gentleman or lady, who has not pleasure in a good novel, must be intolerably stupid.”</span>\n",
       "<span>by <small class=\"author\" itemprop=\"author\">Jane Austen</small>\n",
       "<a href=\"/author/Jane-Austen\">(about)</a>\n",
       "</span>\n",
       "<div class=\"tags\">\n",
       "            Tags:\n",
       "            <meta class=\"keywords\" content=\"aliteracy,books,classic,humor\" itemprop=\"keywords\"/>\n",
       "<a class=\"tag\" href=\"/tag/aliteracy/page/1/\">aliteracy</a>\n",
       "<a class=\"tag\" href=\"/tag/books/page/1/\">books</a>\n",
       "<a class=\"tag\" href=\"/tag/classic/page/1/\">classic</a>\n",
       "<a class=\"tag\" href=\"/tag/humor/page/1/\">humor</a>\n",
       "</div>\n",
       "</div>\n",
       "<div class=\"quote\" itemscope=\"\" itemtype=\"http://schema.org/CreativeWork\">\n",
       "<span class=\"text\" itemprop=\"text\">“Imperfection is beauty, madness is genius and it's better to be absolutely ridiculous than absolutely boring.”</span>\n",
       "<span>by <small class=\"author\" itemprop=\"author\">Marilyn Monroe</small>\n",
       "<a href=\"/author/Marilyn-Monroe\">(about)</a>\n",
       "</span>\n",
       "<div class=\"tags\">\n",
       "            Tags:\n",
       "            <meta class=\"keywords\" content=\"be-yourself,inspirational\" itemprop=\"keywords\"/>\n",
       "<a class=\"tag\" href=\"/tag/be-yourself/page/1/\">be-yourself</a>\n",
       "<a class=\"tag\" href=\"/tag/inspirational/page/1/\">inspirational</a>\n",
       "</div>\n",
       "</div>\n",
       "<div class=\"quote\" itemscope=\"\" itemtype=\"http://schema.org/CreativeWork\">\n",
       "<span class=\"text\" itemprop=\"text\">“Try not to become a man of success. Rather become a man of value.”</span>\n",
       "<span>by <small class=\"author\" itemprop=\"author\">Albert Einstein</small>\n",
       "<a href=\"/author/Albert-Einstein\">(about)</a>\n",
       "</span>\n",
       "<div class=\"tags\">\n",
       "            Tags:\n",
       "            <meta class=\"keywords\" content=\"adulthood,success,value\" itemprop=\"keywords\"/>\n",
       "<a class=\"tag\" href=\"/tag/adulthood/page/1/\">adulthood</a>\n",
       "<a class=\"tag\" href=\"/tag/success/page/1/\">success</a>\n",
       "<a class=\"tag\" href=\"/tag/value/page/1/\">value</a>\n",
       "</div>\n",
       "</div>\n",
       "<div class=\"quote\" itemscope=\"\" itemtype=\"http://schema.org/CreativeWork\">\n",
       "<span class=\"text\" itemprop=\"text\">“It is better to be hated for what you are than to be loved for what you are not.”</span>\n",
       "<span>by <small class=\"author\" itemprop=\"author\">André Gide</small>\n",
       "<a href=\"/author/Andre-Gide\">(about)</a>\n",
       "</span>\n",
       "<div class=\"tags\">\n",
       "            Tags:\n",
       "            <meta class=\"keywords\" content=\"life,love\" itemprop=\"keywords\"/>\n",
       "<a class=\"tag\" href=\"/tag/life/page/1/\">life</a>\n",
       "<a class=\"tag\" href=\"/tag/love/page/1/\">love</a>\n",
       "</div>\n",
       "</div>\n",
       "<div class=\"quote\" itemscope=\"\" itemtype=\"http://schema.org/CreativeWork\">\n",
       "<span class=\"text\" itemprop=\"text\">“I have not failed. I've just found 10,000 ways that won't work.”</span>\n",
       "<span>by <small class=\"author\" itemprop=\"author\">Thomas A. Edison</small>\n",
       "<a href=\"/author/Thomas-A-Edison\">(about)</a>\n",
       "</span>\n",
       "<div class=\"tags\">\n",
       "            Tags:\n",
       "            <meta class=\"keywords\" content=\"edison,failure,inspirational,paraphrased\" itemprop=\"keywords\"/>\n",
       "<a class=\"tag\" href=\"/tag/edison/page/1/\">edison</a>\n",
       "<a class=\"tag\" href=\"/tag/failure/page/1/\">failure</a>\n",
       "<a class=\"tag\" href=\"/tag/inspirational/page/1/\">inspirational</a>\n",
       "<a class=\"tag\" href=\"/tag/paraphrased/page/1/\">paraphrased</a>\n",
       "</div>\n",
       "</div>\n",
       "<div class=\"quote\" itemscope=\"\" itemtype=\"http://schema.org/CreativeWork\">\n",
       "<span class=\"text\" itemprop=\"text\">“A woman is like a tea bag; you never know how strong it is until it's in hot water.”</span>\n",
       "<span>by <small class=\"author\" itemprop=\"author\">Eleanor Roosevelt</small>\n",
       "<a href=\"/author/Eleanor-Roosevelt\">(about)</a>\n",
       "</span>\n",
       "<div class=\"tags\">\n",
       "            Tags:\n",
       "            <meta class=\"keywords\" content=\"misattributed-eleanor-roosevelt\" itemprop=\"keywords\"/>\n",
       "<a class=\"tag\" href=\"/tag/misattributed-eleanor-roosevelt/page/1/\">misattributed-eleanor-roosevelt</a>\n",
       "</div>\n",
       "</div>\n",
       "<div class=\"quote\" itemscope=\"\" itemtype=\"http://schema.org/CreativeWork\">\n",
       "<span class=\"text\" itemprop=\"text\">“A day without sunshine is like, you know, night.”</span>\n",
       "<span>by <small class=\"author\" itemprop=\"author\">Steve Martin</small>\n",
       "<a href=\"/author/Steve-Martin\">(about)</a>\n",
       "</span>\n",
       "<div class=\"tags\">\n",
       "            Tags:\n",
       "            <meta class=\"keywords\" content=\"humor,obvious,simile\" itemprop=\"keywords\"/>\n",
       "<a class=\"tag\" href=\"/tag/humor/page/1/\">humor</a>\n",
       "<a class=\"tag\" href=\"/tag/obvious/page/1/\">obvious</a>\n",
       "<a class=\"tag\" href=\"/tag/simile/page/1/\">simile</a>\n",
       "</div>\n",
       "</div>\n",
       "<nav>\n",
       "<ul class=\"pager\">\n",
       "<li class=\"next\">\n",
       "<a href=\"/page/2/\">Next <span aria-hidden=\"true\">→</span></a>\n",
       "</li>\n",
       "</ul>\n",
       "</nav>\n",
       "</div>\n",
       "<div class=\"col-md-4 tags-box\">\n",
       "<h2>Top Ten tags</h2>\n",
       "<span class=\"tag-item\">\n",
       "<a class=\"tag\" href=\"/tag/love/\" style=\"font-size: 28px\">love</a>\n",
       "</span>\n",
       "<span class=\"tag-item\">\n",
       "<a class=\"tag\" href=\"/tag/inspirational/\" style=\"font-size: 26px\">inspirational</a>\n",
       "</span>\n",
       "<span class=\"tag-item\">\n",
       "<a class=\"tag\" href=\"/tag/life/\" style=\"font-size: 26px\">life</a>\n",
       "</span>\n",
       "<span class=\"tag-item\">\n",
       "<a class=\"tag\" href=\"/tag/humor/\" style=\"font-size: 24px\">humor</a>\n",
       "</span>\n",
       "<span class=\"tag-item\">\n",
       "<a class=\"tag\" href=\"/tag/books/\" style=\"font-size: 22px\">books</a>\n",
       "</span>\n",
       "<span class=\"tag-item\">\n",
       "<a class=\"tag\" href=\"/tag/reading/\" style=\"font-size: 14px\">reading</a>\n",
       "</span>\n",
       "<span class=\"tag-item\">\n",
       "<a class=\"tag\" href=\"/tag/friendship/\" style=\"font-size: 10px\">friendship</a>\n",
       "</span>\n",
       "<span class=\"tag-item\">\n",
       "<a class=\"tag\" href=\"/tag/friends/\" style=\"font-size: 8px\">friends</a>\n",
       "</span>\n",
       "<span class=\"tag-item\">\n",
       "<a class=\"tag\" href=\"/tag/truth/\" style=\"font-size: 8px\">truth</a>\n",
       "</span>\n",
       "<span class=\"tag-item\">\n",
       "<a class=\"tag\" href=\"/tag/simile/\" style=\"font-size: 6px\">simile</a>\n",
       "</span>\n",
       "</div>\n",
       "</div>\n",
       "</div>\n",
       "<footer class=\"footer\">\n",
       "<div class=\"container\">\n",
       "<p class=\"text-muted\">\n",
       "                Quotes by: <a href=\"https://www.goodreads.com/quotes\">GoodReads.com</a>\n",
       "</p>\n",
       "<p class=\"copyright\">\n",
       "                Made with <span class=\"sh-red\">❤</span> by <a href=\"https://scrapinghub.com\">Scrapinghub</a>\n",
       "</p>\n",
       "</div>\n",
       "</footer>\n",
       "</body>\n",
       "</html>"
      ]
     },
     "execution_count": 5,
     "metadata": {},
     "output_type": "execute_result"
    }
   ],
>>>>>>> c2db2e25f3cd8499c77c647e415dc63629c5f6c3
   "source": [
    "# __SOLUTION__\n",
    "soup = BeautifulSoup(html, 'lxml')\n",
    "soup"
   ]
  },
  {
   "cell_type": "markdown",
   "metadata": {},
   "source": [
    "<center><h1><b><i><u>Very Soupy</u></i></b></h1></center>\n",
    "\n",
    "The name ***Beautiful Soup*** is an appropriate description. HTML does not make for a lovely reading experience. If you feel like you're staring at complete gibberish, you're not entirely wrong! HTML is a language designed for computers, not for human eyes.\n",
    "\n",
    "<img src='https://media.giphy.com/media/5xtDarBbqdSQxfGFdNS/giphy.gif' width=\"200\"></img>"
   ]
  },
  {
   "cell_type": "markdown",
   "metadata": {},
   "source": [
    "**Fortunately for us,** <u>we do not have to read through every line of the html in order to web scrape.</u> \n",
    "\n",
    "Modern day web browsers come equipped with tools that allow us to easily sift through this soupy text.\n",
    "\n",
    "\n",
    "## Step 4\n",
    ">**We open up the page we're trying to scrape in a new tab.** <b><a href='http://quotes.toscrape.com/' target='_blank'>Click Here!</a></b> 👀\n",
    "\n",
    "Once we've opened up the webpage, we use the `inspect` tool to locate the html for the elements we wish to scrape.\n",
    "\n",
    "![](static/inspect-gif.gif)"
   ]
  },
  {
   "cell_type": "markdown",
   "metadata": {},
   "source": [
    "## Step 5\n",
    "   > **We create a list of every `div` that has a `class` of \"quote\"**\n",
    "\n",
    "**In this instance,** every item we want to collect is divided into identically labeled containers.\n",
    "- A div with a class of 'quote'.\n",
    "\n",
    "Not all HTML is as well organized as this page, but HTML is basically just a bunch of different organizational containers that we use to divide up text and other forms of media. Figuring out the organizational structure of a website is the entire process for web scraping. "
   ]
  },
  {
   "cell_type": "code",
   "execution_count": null,
   "metadata": {
    "ExecuteTime": {
     "end_time": "2020-07-10T16:52:54.369535Z",
     "start_time": "2020-07-10T16:52:54.363659Z"
    }
   },
   "outputs": [],
   "source": [
    "quote_divs = soup.find_all('div', {'class': 'quote'})\n",
    "len(quote_divs)"
   ]
  },
  {
   "cell_type": "code",
<<<<<<< HEAD
   "execution_count": null,
   "metadata": {},
   "outputs": [],
=======
   "execution_count": 6,
   "metadata": {
    "ExecuteTime": {
     "end_time": "2020-07-19T22:34:46.657250Z",
     "start_time": "2020-07-19T22:34:46.652495Z"
    }
   },
   "outputs": [
    {
     "data": {
      "text/plain": [
       "10"
      ]
     },
     "execution_count": 6,
     "metadata": {},
     "output_type": "execute_result"
    }
   ],
>>>>>>> c2db2e25f3cd8499c77c647e415dc63629c5f6c3
   "source": [
    "# __SOLUTION__\n",
    "quote_divs = soup.find_all('div', {'class': 'quote'})\n",
    "len(quote_divs)"
   ]
  },
  {
   "cell_type": "markdown",
   "metadata": {},
   "source": [
    "## Step 6\n",
    "> **To figure out how to grab all the datapoints from a quote, we isolate a single quote, and work through the code for a single `div`.**"
   ]
  },
  {
   "cell_type": "code",
   "execution_count": null,
   "metadata": {
    "ExecuteTime": {
     "end_time": "2020-07-10T16:55:03.971169Z",
     "start_time": "2020-07-10T16:55:03.968308Z"
    }
   },
   "outputs": [],
   "source": [
    "first_quote = quote_divs[0]"
   ]
  },
  {
   "cell_type": "code",
<<<<<<< HEAD
   "execution_count": null,
   "metadata": {},
=======
   "execution_count": 7,
   "metadata": {
    "ExecuteTime": {
     "end_time": "2020-07-19T22:34:48.505515Z",
     "start_time": "2020-07-19T22:34:48.503198Z"
    }
   },
>>>>>>> c2db2e25f3cd8499c77c647e415dc63629c5f6c3
   "outputs": [],
   "source": [
    "# __SOLUTION__\n",
    "first_quote = quote_divs[0]"
   ]
  },
  {
   "cell_type": "markdown",
   "metadata": {},
   "source": [
    "### First we grab the text of the quote"
   ]
  },
  {
   "cell_type": "code",
   "execution_count": null,
   "metadata": {
    "ExecuteTime": {
     "end_time": "2020-07-10T16:55:09.147053Z",
     "start_time": "2020-07-10T16:55:09.141928Z"
    }
   },
   "outputs": [],
   "source": [
    "text = first_quote.find('span', {'class':'text'})\n",
    "text = text.text\n",
    "text"
   ]
  },
  {
   "cell_type": "code",
<<<<<<< HEAD
   "execution_count": null,
   "metadata": {},
   "outputs": [],
=======
   "execution_count": 8,
   "metadata": {
    "ExecuteTime": {
     "end_time": "2020-07-19T22:34:50.318184Z",
     "start_time": "2020-07-19T22:34:50.314490Z"
    }
   },
   "outputs": [
    {
     "data": {
      "text/plain": [
       "'“The world as we have created it is a process of our thinking. It cannot be changed without changing our thinking.”'"
      ]
     },
     "execution_count": 8,
     "metadata": {},
     "output_type": "execute_result"
    }
   ],
>>>>>>> c2db2e25f3cd8499c77c647e415dc63629c5f6c3
   "source": [
    "# __SOLUTION__\n",
    "text = first_quote.find('span', {'class':'text'})\n",
    "text = text.text\n",
    "text"
   ]
  },
  {
   "cell_type": "markdown",
   "metadata": {},
   "source": [
    "### Next we grab the author"
   ]
  },
  {
   "cell_type": "code",
   "execution_count": null,
   "metadata": {
    "ExecuteTime": {
     "end_time": "2020-07-10T16:56:18.149727Z",
     "start_time": "2020-07-10T16:56:18.144204Z"
    }
   },
   "outputs": [],
   "source": [
    "author = first_quote.find('small', {'class': 'author'})\n",
    "author_name = author.text\n",
    "author_name"
   ]
  },
  {
   "cell_type": "code",
<<<<<<< HEAD
   "execution_count": null,
   "metadata": {},
   "outputs": [],
=======
   "execution_count": 9,
   "metadata": {
    "ExecuteTime": {
     "end_time": "2020-07-19T22:34:52.202456Z",
     "start_time": "2020-07-19T22:34:52.198631Z"
    }
   },
   "outputs": [
    {
     "data": {
      "text/plain": [
       "'Albert Einstein'"
      ]
     },
     "execution_count": 9,
     "metadata": {},
     "output_type": "execute_result"
    }
   ],
>>>>>>> c2db2e25f3cd8499c77c647e415dc63629c5f6c3
   "source": [
    "# __SOLUTION__\n",
    "author = first_quote.find('small', {'class': 'author'})\n",
    "author_name = author.text\n",
    "author_name"
   ]
  },
  {
   "cell_type": "markdown",
   "metadata": {},
   "source": [
    "### Let's also grab the link that points to the author's bio!"
   ]
  },
  {
   "cell_type": "code",
   "execution_count": null,
   "metadata": {
    "ExecuteTime": {
     "end_time": "2020-07-10T17:00:04.320989Z",
     "start_time": "2020-07-10T17:00:04.316244Z"
    }
   },
   "outputs": [],
   "source": [
    "author_link = author.findNextSibling().attrs.get('href')\n",
    "author_link = url + author_link\n",
    "author_link"
   ]
  },
  {
   "cell_type": "code",
<<<<<<< HEAD
   "execution_count": null,
   "metadata": {},
   "outputs": [],
=======
   "execution_count": 10,
   "metadata": {
    "ExecuteTime": {
     "end_time": "2020-07-19T22:34:53.899515Z",
     "start_time": "2020-07-19T22:34:53.895667Z"
    }
   },
   "outputs": [
    {
     "data": {
      "text/plain": [
       "'http://quotes.toscrape.com/author/Albert-Einstein'"
      ]
     },
     "execution_count": 10,
     "metadata": {},
     "output_type": "execute_result"
    }
   ],
>>>>>>> c2db2e25f3cd8499c77c647e415dc63629c5f6c3
   "source": [
    "# __SOLUTION__\n",
    "author_link = author.findNextSibling().attrs.get('href')\n",
    "author_link = url + author_link\n",
    "author_link"
   ]
  },
  {
   "cell_type": "markdown",
   "metadata": {},
   "source": [
    "### And finally, let's grab all of the tags for the quote"
   ]
  },
  {
   "cell_type": "code",
   "execution_count": null,
   "metadata": {
    "ExecuteTime": {
     "end_time": "2020-07-10T17:01:57.978855Z",
     "start_time": "2020-07-10T17:01:57.973531Z"
    }
   },
   "outputs": [],
   "source": [
    "tag_container = first_quote.find('div', {'class': 'tags'})\n",
    "tag_links = tag_container.find_all('a')\n",
    "\n",
    "tags = []\n",
    "for tag in tag_links:\n",
    "    tags.append(tag.text)\n",
    "    \n",
    "tags"
   ]
  },
  {
   "cell_type": "code",
<<<<<<< HEAD
   "execution_count": null,
   "metadata": {},
   "outputs": [],
=======
   "execution_count": 11,
   "metadata": {
    "ExecuteTime": {
     "end_time": "2020-07-19T22:34:56.113630Z",
     "start_time": "2020-07-19T22:34:56.108853Z"
    }
   },
   "outputs": [
    {
     "data": {
      "text/plain": [
       "['change', 'deep-thoughts', 'thinking', 'world']"
      ]
     },
     "execution_count": 11,
     "metadata": {},
     "output_type": "execute_result"
    }
   ],
>>>>>>> c2db2e25f3cd8499c77c647e415dc63629c5f6c3
   "source": [
    "# __SOLUTION__\n",
    "tag_container = first_quote.find('div', {'class': 'tags'})\n",
    "tag_links = tag_container.find_all('a')\n",
    "\n",
    "tags = []\n",
    "for tag in tag_links:\n",
    "    tags.append(tag.text)\n",
    "    \n",
    "tags"
   ]
  },
  {
   "cell_type": "markdown",
   "metadata": {},
   "source": [
    "### Our data:"
   ]
  },
  {
   "cell_type": "code",
   "execution_count": null,
   "metadata": {
    "ExecuteTime": {
     "end_time": "2020-07-10T17:02:36.746672Z",
     "start_time": "2020-07-10T17:02:36.743338Z"
    }
   },
   "outputs": [],
   "source": [
    "print('text:', text)\n",
    "print('author name: ', author_name)\n",
    "print('author link: ', author_link)\n",
    "print('tags: ', tags)"
   ]
  },
  {
   "cell_type": "code",
<<<<<<< HEAD
   "execution_count": null,
   "metadata": {},
   "outputs": [],
=======
   "execution_count": 12,
   "metadata": {
    "ExecuteTime": {
     "end_time": "2020-07-19T22:34:58.085614Z",
     "start_time": "2020-07-19T22:34:58.081471Z"
    }
   },
   "outputs": [
    {
     "name": "stdout",
     "output_type": "stream",
     "text": [
      "text: “The world as we have created it is a process of our thinking. It cannot be changed without changing our thinking.”\n",
      "author name:  Albert Einstein\n",
      "author link:  http://quotes.toscrape.com/author/Albert-Einstein\n",
      "tags:  ['change', 'deep-thoughts', 'thinking', 'world']\n"
     ]
    }
   ],
>>>>>>> c2db2e25f3cd8499c77c647e415dc63629c5f6c3
   "source": [
    "# __SOLUTION__\n",
    "print('text:', text)\n",
    "print('author name: ', author_name)\n",
    "print('author link: ', author_link)\n",
    "print('tags: ', tags)"
   ]
  },
  {
   "cell_type": "markdown",
   "metadata": {},
   "source": [
    "# Step 7\n",
    "> We create a function to make our code reusable.\n",
    "\n",
    "Now that we know how to collect this data from a quote div, we can compile the code into a [function](https://www.geeksforgeeks.org/functions-in-python/) called `quote_data`. This allows us to grab a quote div, feed it into the function like so...\n",
    "> `quote_data(quote_div)`\n",
    "\n",
    "...and receive all of the data from that div.\n",
    "\n",
    "<u><b>In the cell below, define a function called `quote_data` that receives a single quote_div and does the following</b></u>\n",
    "1. Collects the text from the quote\n",
    "2. Collects the author name\n",
    "3. Collects the author link\n",
    "4. Collects the list of tags assigned to the quote. \n",
    "5. Returns the data in the following format\n",
    "```\n",
    "{'author': author_name,\n",
    " 'text': text,\n",
    " 'author_link': author_link,\n",
    " 'tags': tags}\n",
    " ```"
   ]
  },
  {
   "cell_type": "code",
   "execution_count": null,
   "metadata": {},
   "outputs": [],
   "source": [
<<<<<<< HEAD
    "# Your code here"
=======
    "# Your code here\n",
    "def quote_data(quote_div):\n",
    "    pass"
>>>>>>> c2db2e25f3cd8499c77c647e415dc63629c5f6c3
   ]
  },
  {
   "cell_type": "code",
<<<<<<< HEAD
   "execution_count": null,
   "metadata": {},
=======
   "execution_count": 13,
   "metadata": {
    "ExecuteTime": {
     "end_time": "2020-07-19T22:35:00.432445Z",
     "start_time": "2020-07-19T22:35:00.427164Z"
    }
   },
>>>>>>> c2db2e25f3cd8499c77c647e415dc63629c5f6c3
   "outputs": [],
   "source": [
    "# __SOLUTION__\n",
    "def quote_data(quote_div):\n",
<<<<<<< HEAD
    "    text = quote_div.find('span', {'class':'text'})\n",
    "    text = text.text\n",
    "    author = quote_div.find('small', {'class': 'author'})\n",
    "    author_name = author.text\n",
    "    author_link = author.findNextSibling().attrs.get('href')\n",
    "    author_link = url + author_link\n",
    "    tag_container = quote_div.find('div', {'class': 'tags'})\n",
=======
    "    # Collect the quote\n",
    "    text = quote_div.find('span', {'class':'text'})\n",
    "    text = text.text\n",
    "    \n",
    "    # Collect the author name\n",
    "    author = quote_div.find('small', {'class': 'author'})\n",
    "    author_name = author.text\n",
    "    \n",
    "    # Collect author link\n",
    "    author_link = author.findNextSibling().attrs.get('href')\n",
    "    author_link = url + author_link\n",
    "    \n",
    "    # Collect tags\n",
    "    tag_container = quote_div.find('div', {'class': 'tags'})\n",
    "\n",
>>>>>>> c2db2e25f3cd8499c77c647e415dc63629c5f6c3
    "    tag_links = tag_container.find_all('a')\n",
    "\n",
    "    tags = []\n",
    "    for tag in tag_links:\n",
    "        tags.append(tag.text)\n",
<<<<<<< HEAD
    "\n",
    "        \n",
    "    data = {'author': author_name,\n",
    "           'text': text,\n",
    "           'author_link': author_link,\n",
    "           'tags': tags}\n",
    "    \n",
    "    return data"
=======
    "       \n",
    "    # Return data as a dictionary\n",
    "    return {'author': author_name,\n",
    "            'text': text,\n",
    "            'author_link': author_link,\n",
    "            'tags': tags}"
>>>>>>> c2db2e25f3cd8499c77c647e415dc63629c5f6c3
   ]
  },
  {
   "cell_type": "markdown",
   "metadata": {},
   "source": [
    "### Let's test our fuction."
   ]
  },
  {
   "cell_type": "code",
   "execution_count": null,
   "metadata": {},
   "outputs": [],
   "source": [
    "# Run this cell unchanged\n",
    "test.run_test(quote_data(quote_divs[7]), 'quote_scraper')"
   ]
  },
  {
   "cell_type": "code",
<<<<<<< HEAD
   "execution_count": null,
   "metadata": {},
   "outputs": [],
=======
   "execution_count": 14,
   "metadata": {
    "ExecuteTime": {
     "end_time": "2020-07-19T22:35:02.595919Z",
     "start_time": "2020-07-19T22:35:02.591913Z"
    }
   },
   "outputs": [
    {
     "data": {
      "text/markdown": [
       "✅ **Hey, you did it.  Good job.**"
      ],
      "text/plain": [
       "<IPython.core.display.Markdown object>"
      ]
     },
     "metadata": {},
     "output_type": "display_data"
    }
   ],
>>>>>>> c2db2e25f3cd8499c77c647e415dc63629c5f6c3
   "source": [
    "# __SOLUTION__\n",
    "# Run this cell unchanged\n",
    "test.run_test(quote_data(quote_divs[7]), 'quote_scraper')"
   ]
  },
  {
   "cell_type": "markdown",
   "metadata": {},
   "source": [
    "Now we can collect the data from every quote on the first page with a simple [```for loop```](https://www.w3schools.com/python/python_for_loops.asp)!"
   ]
  },
  {
   "cell_type": "code",
   "execution_count": null,
   "metadata": {},
   "outputs": [],
   "source": [
    "page_one_data = []\n",
    "for div in quote_divs:\n",
    "    # Apply our function to each quote\n",
    "    data_from_div = quote_data(div)\n",
    "    page_one_data.append(data_from_div)\n",
    "    \n",
    "print(len(page_one_data), 'quotes scraped!')\n",
    "page_one_data[:2]"
   ]
  },
  {
   "cell_type": "code",
<<<<<<< HEAD
   "execution_count": null,
   "metadata": {},
   "outputs": [],
=======
   "execution_count": 15,
   "metadata": {
    "ExecuteTime": {
     "end_time": "2020-07-19T22:35:04.502929Z",
     "start_time": "2020-07-19T22:35:04.496217Z"
    },
    "scrolled": true
   },
   "outputs": [
    {
     "name": "stdout",
     "output_type": "stream",
     "text": [
      "10 quotes scraped!\n"
     ]
    },
    {
     "data": {
      "text/plain": [
       "[{'author': 'Albert Einstein',\n",
       "  'text': '“The world as we have created it is a process of our thinking. It cannot be changed without changing our thinking.”',\n",
       "  'author_link': 'http://quotes.toscrape.com/author/Albert-Einstein',\n",
       "  'tags': ['change', 'deep-thoughts', 'thinking', 'world']},\n",
       " {'author': 'J.K. Rowling',\n",
       "  'text': '“It is our choices, Harry, that show what we truly are, far more than our abilities.”',\n",
       "  'author_link': 'http://quotes.toscrape.com/author/J-K-Rowling',\n",
       "  'tags': ['abilities', 'choices']}]"
      ]
     },
     "execution_count": 15,
     "metadata": {},
     "output_type": "execute_result"
    }
   ],
>>>>>>> c2db2e25f3cd8499c77c647e415dc63629c5f6c3
   "source": [
    "# __SOLUTION__\n",
    "page_one_data = []\n",
    "for div in quote_divs:\n",
    "    # Apply our function to each quote\n",
    "    data_from_div = quote_data(div)\n",
    "    page_one_data.append(data_from_div)\n",
    "    \n",
    "print(len(page_one_data), 'quotes scraped!')\n",
    "page_one_data[:2]"
   ]
  },
  {
   "cell_type": "markdown",
   "metadata": {
    "ExecuteTime": {
     "end_time": "2020-07-03T18:55:14.762708Z",
     "start_time": "2020-07-03T18:55:14.758667Z"
    }
   },
   "source": [
    "# We just scraped an entire webpage!\n",
    "\n",
    "![](https://media.giphy.com/media/KiXl0vfc9XIIM/giphy.gif)"
   ]
  },
  {
   "cell_type": "markdown",
   "metadata": {},
   "source": [
    "### Level Up: What if we wanted to scrape the quotes from *every* page?\n",
    "\n",
    "**Step 1:** The first thing we do is take the code from above that scraped the data for all of the quotes on page one, and move it into a function called `parse_page`."
   ]
  },
  {
   "cell_type": "code",
   "execution_count": null,
   "metadata": {
    "ExecuteTime": {
     "end_time": "2020-07-10T17:10:40.926551Z",
     "start_time": "2020-07-10T17:10:40.923140Z"
    }
   },
   "outputs": [],
   "source": [
    "def scrape_page(quote_divs):\n",
    "    data = []\n",
    "    for div in quote_divs:\n",
    "        div_data = quote_data(div)\n",
    "        data.append(div_data)\n",
    "        \n",
    "    return data"
   ]
  },
  {
   "cell_type": "code",
<<<<<<< HEAD
   "execution_count": null,
   "metadata": {},
=======
   "execution_count": 16,
   "metadata": {
    "ExecuteTime": {
     "end_time": "2020-07-19T22:35:09.845938Z",
     "start_time": "2020-07-19T22:35:09.842863Z"
    }
   },
>>>>>>> c2db2e25f3cd8499c77c647e415dc63629c5f6c3
   "outputs": [],
   "source": [
    "# __SOLUTION__\n",
    "def scrape_page(quote_divs):\n",
    "    data = []\n",
    "    for div in quote_divs:\n",
    "        div_data = quote_data(div)\n",
    "        data.append(div_data)\n",
    "        \n",
    "    return data"
   ]
  },
  {
   "cell_type": "markdown",
   "metadata": {},
   "source": [
    "**Step 2:** We grab the code we used at the very beginning to collect the html and the list of divs from a web page."
   ]
  },
  {
   "cell_type": "code",
   "execution_count": null,
   "metadata": {
    "ExecuteTime": {
     "end_time": "2020-07-10T17:11:48.656606Z",
     "start_time": "2020-07-10T17:11:48.366931Z"
    }
   },
   "outputs": [],
   "source": [
    "base_url = 'http://quotes.toscrape.com'\n",
    "response = requests.get(url)\n",
    "html = response.text\n",
    "soup = BeautifulSoup(html, 'lxml')\n",
    "quote_divs = soup.find_all('div', {'class': 'quote'})"
   ]
  },
  {
   "cell_type": "code",
<<<<<<< HEAD
   "execution_count": null,
   "metadata": {},
=======
   "execution_count": 17,
   "metadata": {
    "ExecuteTime": {
     "end_time": "2020-07-19T22:35:12.996117Z",
     "start_time": "2020-07-19T22:35:12.717308Z"
    }
   },
>>>>>>> c2db2e25f3cd8499c77c647e415dc63629c5f6c3
   "outputs": [],
   "source": [
    "# __SOLUTION__\n",
    "base_url = 'http://quotes.toscrape.com'\n",
    "response = requests.get(url)\n",
    "html = response.text\n",
    "soup = BeautifulSoup(html, 'lxml')\n",
    "quote_divs = soup.find_all('div', {'class': 'quote'})"
   ]
  },
  {
   "cell_type": "markdown",
   "metadata": {},
   "source": [
    "**Step 3:** We feed all of the `quote_divs` into our newly made `parse_page` function to grab all of the data from that page."
   ]
  },
  {
   "cell_type": "code",
   "execution_count": null,
   "metadata": {
    "ExecuteTime": {
     "end_time": "2020-07-10T17:11:52.911796Z",
     "start_time": "2020-07-10T17:11:52.907812Z"
    }
   },
   "outputs": [],
   "source": [
    "data = scrape_page(quote_divs)"
   ]
  },
  {
   "cell_type": "code",
<<<<<<< HEAD
   "execution_count": null,
   "metadata": {},
=======
   "execution_count": 18,
   "metadata": {
    "ExecuteTime": {
     "end_time": "2020-07-19T22:35:17.757221Z",
     "start_time": "2020-07-19T22:35:17.753624Z"
    }
   },
>>>>>>> c2db2e25f3cd8499c77c647e415dc63629c5f6c3
   "outputs": [],
   "source": [
    "# __SOLUTION__\n",
    "data = scrape_page(quote_divs)"
   ]
  },
  {
   "cell_type": "code",
   "execution_count": null,
   "metadata": {
    "ExecuteTime": {
     "end_time": "2020-07-10T17:11:59.322162Z",
     "start_time": "2020-07-10T17:11:59.317619Z"
    }
   },
   "outputs": [],
   "source": [
    "data[:2]"
   ]
  },
  {
   "cell_type": "code",
<<<<<<< HEAD
   "execution_count": null,
   "metadata": {},
   "outputs": [],
=======
   "execution_count": 19,
   "metadata": {
    "ExecuteTime": {
     "end_time": "2020-07-19T22:35:19.385720Z",
     "start_time": "2020-07-19T22:35:19.382183Z"
    }
   },
   "outputs": [
    {
     "data": {
      "text/plain": [
       "[{'author': 'Albert Einstein',\n",
       "  'text': '“The world as we have created it is a process of our thinking. It cannot be changed without changing our thinking.”',\n",
       "  'author_link': 'http://quotes.toscrape.com/author/Albert-Einstein',\n",
       "  'tags': ['change', 'deep-thoughts', 'thinking', 'world']},\n",
       " {'author': 'J.K. Rowling',\n",
       "  'text': '“It is our choices, Harry, that show what we truly are, far more than our abilities.”',\n",
       "  'author_link': 'http://quotes.toscrape.com/author/J-K-Rowling',\n",
       "  'tags': ['abilities', 'choices']}]"
      ]
     },
     "execution_count": 19,
     "metadata": {},
     "output_type": "execute_result"
    }
   ],
>>>>>>> c2db2e25f3cd8499c77c647e415dc63629c5f6c3
   "source": [
    "# __SOLUTION__\n",
    "data[:2]"
   ]
  },
  {
   "cell_type": "markdown",
   "metadata": {},
   "source": [
    "**Step 4:** We check to see if there is a `Next Page` button at the bottom of the page.\n",
    "\n",
    "*This is requires multiple steps.*\n",
    "\n",
    "1. We grab the outer container called that has a class of `pager`."
   ]
  },
  {
   "cell_type": "code",
   "execution_count": null,
   "metadata": {
    "ExecuteTime": {
     "end_time": "2020-07-10T17:13:24.139244Z",
     "start_time": "2020-07-10T17:13:24.135275Z"
    }
   },
   "outputs": [],
   "source": [
    "pager = soup.find('ul', {'class': 'pager'})"
   ]
  },
  {
   "cell_type": "code",
<<<<<<< HEAD
   "execution_count": null,
   "metadata": {},
=======
   "execution_count": 20,
   "metadata": {
    "ExecuteTime": {
     "end_time": "2020-07-19T22:35:21.471801Z",
     "start_time": "2020-07-19T22:35:21.468646Z"
    }
   },
>>>>>>> c2db2e25f3cd8499c77c647e415dc63629c5f6c3
   "outputs": [],
   "source": [
    "# __SOLUTION__\n",
    "pager = soup.find('ul', {'class': 'pager'})"
   ]
  },
  {
   "cell_type": "markdown",
   "metadata": {},
   "source": [
    "If there is no pager element on the webpage, pager will be set to `None`.\n",
    "\n",
    "2. We use an if check to make sure a pager exists:"
   ]
  },
  {
   "cell_type": "code",
   "execution_count": null,
   "metadata": {
    "ExecuteTime": {
     "end_time": "2020-07-10T17:15:25.071467Z",
     "start_time": "2020-07-10T17:15:25.068029Z"
    }
   },
   "outputs": [],
   "source": [
    "if pager:\n",
    "    next_page = pager.find('li', {'class': 'next'})"
   ]
  },
  {
   "cell_type": "code",
<<<<<<< HEAD
   "execution_count": null,
   "metadata": {},
=======
   "execution_count": 21,
   "metadata": {
    "ExecuteTime": {
     "end_time": "2020-07-19T22:35:24.172870Z",
     "start_time": "2020-07-19T22:35:24.170371Z"
    }
   },
>>>>>>> c2db2e25f3cd8499c77c647e415dc63629c5f6c3
   "outputs": [],
   "source": [
    "# __SOLUTION__\n",
    "if pager:\n",
    "    next_page = pager.find('li', {'class': 'next'})"
   ]
  },
  {
   "cell_type": "markdown",
   "metadata": {},
   "source": [
    "3. We then check to see if a `Next Page` button exists on the page. \n",
    "\n",
    "    - Every page has a next button except the *last* page which only has a `Previous Page` button. Basically, we're checking to see if the `Next button` exists. It it does, we \"click\" it."
   ]
  },
  {
   "cell_type": "code",
   "execution_count": null,
   "metadata": {
    "ExecuteTime": {
     "end_time": "2020-07-10T17:15:25.640201Z",
     "start_time": "2020-07-10T17:15:25.637151Z"
    }
   },
   "outputs": [],
   "source": [
    "if next_page:\n",
    "    next_page = next_page.findChild('a')\\\n",
    "                         .attrs\\\n",
    "                         .get('href')"
   ]
  },
  {
   "cell_type": "code",
<<<<<<< HEAD
   "execution_count": null,
   "metadata": {},
=======
   "execution_count": 22,
   "metadata": {
    "ExecuteTime": {
     "end_time": "2020-07-19T22:35:26.250699Z",
     "start_time": "2020-07-19T22:35:26.248064Z"
    }
   },
>>>>>>> c2db2e25f3cd8499c77c647e415dc63629c5f6c3
   "outputs": [],
   "source": [
    "# __SOLUTION__\n",
    "if next_page:\n",
    "    next_page = next_page.findChild('a')\\\n",
    "                         .attrs\\\n",
    "                         .get('href')"
   ]
  },
  {
   "cell_type": "markdown",
   "metadata": {},
   "source": [
    "With most webscraping tools, \"clicking a button\" means collecting the link inside the button and making a new request.\n",
    "\n",
    "If a link is pointing to a page on the same website, the links are usually just the forward slashes that need to be added to the base website url. This is called a `relative` link.\n",
    "\n",
    "**Step 5:** Collect the relative link that points to the next page, and add it to our base_url"
   ]
  },
  {
   "cell_type": "code",
   "execution_count": null,
   "metadata": {
    "ExecuteTime": {
     "end_time": "2020-07-10T17:15:39.764653Z",
     "start_time": "2020-07-10T17:15:39.760665Z"
    }
   },
   "outputs": [],
   "source": [
    "next_page = url + next_page\n",
    "next_page"
   ]
  },
  {
   "cell_type": "code",
<<<<<<< HEAD
   "execution_count": null,
   "metadata": {},
   "outputs": [],
=======
   "execution_count": 23,
   "metadata": {
    "ExecuteTime": {
     "end_time": "2020-07-19T22:35:28.321327Z",
     "start_time": "2020-07-19T22:35:28.317936Z"
    }
   },
   "outputs": [
    {
     "data": {
      "text/plain": [
       "'http://quotes.toscrape.com/page/2/'"
      ]
     },
     "execution_count": 23,
     "metadata": {},
     "output_type": "execute_result"
    }
   ],
>>>>>>> c2db2e25f3cd8499c77c647e415dc63629c5f6c3
   "source": [
    "# __SOLUTION__\n",
    "next_page = url + next_page\n",
    "next_page"
   ]
  },
  {
   "cell_type": "markdown",
   "metadata": {},
   "source": [
    "**Step 6:** We repeat the exact same process for this new link!\n",
    "\n",
    "ie:\n",
    "1. Make request using a url that points to the next page.\n",
    "2. Scrape quote divs\n",
    "3. Collect data from every quote div on that page\n",
    "4. Find the `Next page` button.\n",
    "5. Collect the url from the button\n",
    "6. Repeat\n",
    "\n",
    "**So how do we do this over and over again without repeating ourselves?**\n",
    "\n",
    "The first step is compile all of these steps into a new function called `scrape_quotes`.\n",
    "\n",
    "The second step is, something called `recursion`. \n",
    "\n",
    "<center><h1><u>Recursion</u></h1></center>\n",
    "\n",
    "![](https://media.giphy.com/media/l1J9R1Q7LJGSZOxFe/giphy.gif)\n",
    "\n",
    "> **Recursion** is a bit of a mind bend, so don't feel bad if it is hard to wrap your brain around. It took me a while to be able to understand recursive functions!\n",
    "\n",
    "Essentially, recursion is where we use a function inside of itself.\n",
    "\n",
    "**In this instance,** our code will be telling the computer, if there is a `Next page` button, rerun all of the code again on the page the next button points us to and check to see if there is a `Next page` button on *that* page. If there is, keep repeating the process until a `Next page` button is not found."
   ]
  },
  {
   "cell_type": "code",
   "execution_count": null,
   "metadata": {
    "ExecuteTime": {
     "end_time": "2020-07-10T17:19:58.694086Z",
     "start_time": "2020-07-10T17:19:58.613897Z"
    }
   },
   "outputs": [],
   "source": [
    "def scrape_quotes(url):\n",
    "    base_url = 'http://quotes.toscrape.com'\n",
    "    response = requests.get(url)\n",
    "    html = response.text\n",
    "    soup = BeautifulSoup(html, 'lxml')\n",
    "    quote_divs = soup.find_all('div', {'class': 'quote'})\n",
    "    data = scrape_page(quote_divs)\n",
    "    \n",
    "    pager = soup.find('ul', {'class': 'pager'})\n",
    "    if pager:\n",
    "        next_page = pager.find('li', {'class': 'next'})\n",
    "        \n",
    "        if next_page:\n",
    "            next_page =  next_page.findChild('a')\\\n",
    "                                  .attrs\\\n",
    "                                  .get('href')\n",
    "            \n",
    "            next_page = base_url + next_page\n",
    "            print('Scraping', next_page)\n",
    "            ## This is where the recursion happens\n",
    "            data += scrape_quotes(next_page)\n",
    "        \n",
    "    \n",
    "\n",
    "    return data"
   ]
  },
  {
   "cell_type": "code",
<<<<<<< HEAD
   "execution_count": null,
   "metadata": {},
=======
   "execution_count": 24,
   "metadata": {
    "ExecuteTime": {
     "end_time": "2020-07-19T22:35:32.161388Z",
     "start_time": "2020-07-19T22:35:32.155962Z"
    }
   },
>>>>>>> c2db2e25f3cd8499c77c647e415dc63629c5f6c3
   "outputs": [],
   "source": [
    "# __SOLUTION__\n",
    "def scrape_quotes(url):\n",
    "    base_url = 'http://quotes.toscrape.com'\n",
    "    response = requests.get(url)\n",
    "    html = response.text\n",
    "    soup = BeautifulSoup(html, 'lxml')\n",
    "    quote_divs = soup.find_all('div', {'class': 'quote'})\n",
    "    data = scrape_page(quote_divs)\n",
    "    \n",
    "    pager = soup.find('ul', {'class': 'pager'})\n",
    "    if pager:\n",
    "        next_page = pager.find('li', {'class': 'next'})\n",
    "        \n",
    "        if next_page:\n",
    "            next_page =  next_page.findChild('a')\\\n",
    "                                  .attrs\\\n",
    "                                  .get('href')\n",
    "            \n",
    "            next_page = base_url + next_page\n",
    "            print('Scraping', next_page)\n",
    "            ## This is where the recursion happens\n",
    "            data += scrape_quotes(next_page)\n",
    "        \n",
    "    \n",
    "\n",
    "    return data"
   ]
  },
  {
   "cell_type": "markdown",
   "metadata": {},
   "source": [
    "Now we can set a variable called `data` that is the output of our recursive function!\n",
    "\n",
    "> A print statement has been added to output what page is being scraped"
   ]
  },
  {
   "cell_type": "code",
   "execution_count": null,
   "metadata": {
    "ExecuteTime": {
     "end_time": "2020-07-10T17:20:37.075053Z",
     "start_time": "2020-07-10T17:20:34.359779Z"
    },
    "scrolled": true
   },
   "outputs": [],
   "source": [
    "data = scrape_quotes(url)\n",
    "print(len(data), 'Quotes scraped!')"
   ]
  },
  {
   "cell_type": "code",
<<<<<<< HEAD
   "execution_count": null,
   "metadata": {},
   "outputs": [],
=======
   "execution_count": 25,
   "metadata": {
    "ExecuteTime": {
     "end_time": "2020-07-19T22:35:38.498590Z",
     "start_time": "2020-07-19T22:35:34.103849Z"
    }
   },
   "outputs": [
    {
     "name": "stdout",
     "output_type": "stream",
     "text": [
      "Scraping http://quotes.toscrape.com/page/2/\n",
      "Scraping http://quotes.toscrape.com/page/3/\n",
      "Scraping http://quotes.toscrape.com/page/4/\n",
      "Scraping http://quotes.toscrape.com/page/5/\n",
      "Scraping http://quotes.toscrape.com/page/6/\n",
      "Scraping http://quotes.toscrape.com/page/7/\n",
      "Scraping http://quotes.toscrape.com/page/8/\n",
      "Scraping http://quotes.toscrape.com/page/9/\n",
      "Scraping http://quotes.toscrape.com/page/10/\n",
      "100 Quotes scraped!\n"
     ]
    }
   ],
>>>>>>> c2db2e25f3cd8499c77c647e415dc63629c5f6c3
   "source": [
    "# __SOLUTION__\n",
    "data = scrape_quotes(url)\n",
    "print(len(data), 'Quotes scraped!')"
   ]
  },
  {
   "cell_type": "markdown",
   "metadata": {},
   "source": [
    "Now we can visualize and explore our data!"
   ]
  },
  {
   "cell_type": "code",
   "execution_count": null,
   "metadata": {
    "ExecuteTime": {
     "end_time": "2020-07-10T17:20:51.008980Z",
     "start_time": "2020-07-10T17:20:50.800018Z"
    }
   },
   "outputs": [],
   "source": [
    "def count_tags(quote):\n",
    "    return len(quote['tags'])\n",
    "\n",
    "def tag_lengths(data):\n",
    "    lengths = []\n",
    "    for quote in data:\n",
    "        lengths.append(count_tags(quote))\n",
    "        \n",
    "    return lengths\n",
    "        \n",
    "lengths = tag_lengths(data)\n",
    "plt.figure(figsize=(10,6))   \n",
    "plt.hist(lengths, bins=9)\n",
    "plt.title('Number of Tags');"
   ]
  },
  {
   "cell_type": "code",
<<<<<<< HEAD
   "execution_count": null,
   "metadata": {},
   "outputs": [],
=======
   "execution_count": 26,
   "metadata": {
    "ExecuteTime": {
     "end_time": "2020-07-19T22:35:43.155609Z",
     "start_time": "2020-07-19T22:35:42.891506Z"
    }
   },
   "outputs": [
    {
     "data": {
      "image/png": "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\n",
      "text/plain": [
       "<Figure size 720x432 with 1 Axes>"
      ]
     },
     "metadata": {
      "needs_background": "light"
     },
     "output_type": "display_data"
    }
   ],
>>>>>>> c2db2e25f3cd8499c77c647e415dc63629c5f6c3
   "source": [
    "# __SOLUTION__\n",
    "def count_tags(quote):\n",
    "    return len(quote['tags'])\n",
    "\n",
    "def tag_lengths(data):\n",
    "    lengths = []\n",
    "    for quote in data:\n",
    "        lengths.append(count_tags(quote))\n",
    "        \n",
    "    return lengths\n",
    "        \n",
    "lengths = tag_lengths(data)\n",
    "plt.figure(figsize=(10,6))   \n",
    "plt.hist(lengths, bins=9)\n",
    "plt.title('Number of Tags');"
   ]
  },
  {
   "cell_type": "markdown",
   "metadata": {},
   "source": [
    "# Saving our data"
   ]
  },
  {
   "cell_type": "code",
   "execution_count": null,
   "metadata": {
    "ExecuteTime": {
     "end_time": "2020-07-10T17:21:30.144815Z",
     "start_time": "2020-07-10T17:21:30.116215Z"
    }
   },
   "outputs": [],
   "source": [
    "df = pd.DataFrame(data)\n",
    "df.head()"
   ]
  },
  {
   "cell_type": "code",
<<<<<<< HEAD
   "execution_count": null,
   "metadata": {},
   "outputs": [],
=======
   "execution_count": 27,
   "metadata": {
    "ExecuteTime": {
     "end_time": "2020-07-19T22:35:46.611462Z",
     "start_time": "2020-07-19T22:35:46.597599Z"
    }
   },
   "outputs": [
    {
     "data": {
      "text/html": [
       "<div>\n",
       "<style scoped>\n",
       "    .dataframe tbody tr th:only-of-type {\n",
       "        vertical-align: middle;\n",
       "    }\n",
       "\n",
       "    .dataframe tbody tr th {\n",
       "        vertical-align: top;\n",
       "    }\n",
       "\n",
       "    .dataframe thead th {\n",
       "        text-align: right;\n",
       "    }\n",
       "</style>\n",
       "<table border=\"1\" class=\"dataframe\">\n",
       "  <thead>\n",
       "    <tr style=\"text-align: right;\">\n",
       "      <th></th>\n",
       "      <th>author</th>\n",
       "      <th>text</th>\n",
       "      <th>author_link</th>\n",
       "      <th>tags</th>\n",
       "    </tr>\n",
       "  </thead>\n",
       "  <tbody>\n",
       "    <tr>\n",
       "      <th>0</th>\n",
       "      <td>Albert Einstein</td>\n",
       "      <td>“The world as we have created it is a process ...</td>\n",
       "      <td>http://quotes.toscrape.com/author/Albert-Einstein</td>\n",
       "      <td>[change, deep-thoughts, thinking, world]</td>\n",
       "    </tr>\n",
       "    <tr>\n",
       "      <th>1</th>\n",
       "      <td>J.K. Rowling</td>\n",
       "      <td>“It is our choices, Harry, that show what we t...</td>\n",
       "      <td>http://quotes.toscrape.com/author/J-K-Rowling</td>\n",
       "      <td>[abilities, choices]</td>\n",
       "    </tr>\n",
       "    <tr>\n",
       "      <th>2</th>\n",
       "      <td>Albert Einstein</td>\n",
       "      <td>“There are only two ways to live your life. On...</td>\n",
       "      <td>http://quotes.toscrape.com/author/Albert-Einstein</td>\n",
       "      <td>[inspirational, life, live, miracle, miracles]</td>\n",
       "    </tr>\n",
       "    <tr>\n",
       "      <th>3</th>\n",
       "      <td>Jane Austen</td>\n",
       "      <td>“The person, be it gentleman or lady, who has ...</td>\n",
       "      <td>http://quotes.toscrape.com/author/Jane-Austen</td>\n",
       "      <td>[aliteracy, books, classic, humor]</td>\n",
       "    </tr>\n",
       "    <tr>\n",
       "      <th>4</th>\n",
       "      <td>Marilyn Monroe</td>\n",
       "      <td>“Imperfection is beauty, madness is genius and...</td>\n",
       "      <td>http://quotes.toscrape.com/author/Marilyn-Monroe</td>\n",
       "      <td>[be-yourself, inspirational]</td>\n",
       "    </tr>\n",
       "  </tbody>\n",
       "</table>\n",
       "</div>"
      ],
      "text/plain": [
       "            author                                               text  \\\n",
       "0  Albert Einstein  “The world as we have created it is a process ...   \n",
       "1     J.K. Rowling  “It is our choices, Harry, that show what we t...   \n",
       "2  Albert Einstein  “There are only two ways to live your life. On...   \n",
       "3      Jane Austen  “The person, be it gentleman or lady, who has ...   \n",
       "4   Marilyn Monroe  “Imperfection is beauty, madness is genius and...   \n",
       "\n",
       "                                         author_link  \\\n",
       "0  http://quotes.toscrape.com/author/Albert-Einstein   \n",
       "1      http://quotes.toscrape.com/author/J-K-Rowling   \n",
       "2  http://quotes.toscrape.com/author/Albert-Einstein   \n",
       "3      http://quotes.toscrape.com/author/Jane-Austen   \n",
       "4   http://quotes.toscrape.com/author/Marilyn-Monroe   \n",
       "\n",
       "                                             tags  \n",
       "0        [change, deep-thoughts, thinking, world]  \n",
       "1                            [abilities, choices]  \n",
       "2  [inspirational, life, live, miracle, miracles]  \n",
       "3              [aliteracy, books, classic, humor]  \n",
       "4                    [be-yourself, inspirational]  "
      ]
     },
     "execution_count": 27,
     "metadata": {},
     "output_type": "execute_result"
    }
   ],
>>>>>>> c2db2e25f3cd8499c77c647e415dc63629c5f6c3
   "source": [
    "# __SOLUTION__\n",
    "df = pd.DataFrame(data)\n",
    "df.head()"
   ]
  },
  {
   "cell_type": "code",
   "execution_count": null,
   "metadata": {
    "ExecuteTime": {
     "end_time": "2020-07-10T17:22:10.108560Z",
     "start_time": "2020-07-10T17:22:10.097506Z"
    }
   },
   "outputs": [],
   "source": [
    "df.to_csv('quotes_data.csv')"
   ]
  },
  {
   "cell_type": "code",
<<<<<<< HEAD
   "execution_count": null,
   "metadata": {},
=======
   "execution_count": 28,
   "metadata": {
    "ExecuteTime": {
     "end_time": "2020-07-19T22:35:48.489608Z",
     "start_time": "2020-07-19T22:35:48.483909Z"
    }
   },
>>>>>>> c2db2e25f3cd8499c77c647e415dc63629c5f6c3
   "outputs": [],
   "source": [
    "# __SOLUTION__\n",
    "df.to_csv('quotes_data.csv')"
   ]
  },
  {
   "cell_type": "markdown",
   "metadata": {},
   "source": [
    "# Web scraping is a powerful tool. \n",
    "\n",
    "It can be used:\n",
    "- To discover the most in demand skills from thousands of online job postings.\n",
    "- To learn the average price of a product from thousands of online sale.\n",
    "- To research social media networks.\n",
    "\n",
    "**And so much more!** As our world continues to develop online markets and communities, the uses for webscraping continue to grow. In the end, the power of web scraping comes from the ability to create datasets that otherwise do not exist, or at the very least, are not readily available to the public.\n"
   ]
  }
 ],
 "metadata": {
  "hide_input": false,
  "kernelspec": {
   "display_name": "Python 3",
   "language": "python",
   "name": "python3"
  },
  "language_info": {
   "codemirror_mode": {
    "name": "ipython",
    "version": 3
   },
   "file_extension": ".py",
   "mimetype": "text/x-python",
   "name": "python",
   "nbconvert_exporter": "python",
   "pygments_lexer": "ipython3",
<<<<<<< HEAD
   "version": "3.7.7"
=======
   "version": "3.7.4"
>>>>>>> c2db2e25f3cd8499c77c647e415dc63629c5f6c3
  },
  "toc": {
   "base_numbering": 1,
   "nav_menu": {},
   "number_sections": false,
   "sideBar": true,
   "skip_h1_title": false,
   "title_cell": "Table of Contents",
   "title_sidebar": "Contents",
   "toc_cell": false,
   "toc_position": {
    "height": "calc(100% - 180px)",
    "left": "10px",
    "top": "150px",
    "width": "303.797px"
   },
   "toc_section_display": true,
   "toc_window_display": true
  },
  "varInspector": {
   "cols": {
    "lenName": 16,
    "lenType": 16,
    "lenVar": 40
   },
   "kernels_config": {
    "python": {
     "delete_cmd_postfix": "",
     "delete_cmd_prefix": "del ",
     "library": "var_list.py",
     "varRefreshCmd": "print(var_dic_list())"
    },
    "r": {
     "delete_cmd_postfix": ") ",
     "delete_cmd_prefix": "rm(",
     "library": "var_list.r",
     "varRefreshCmd": "cat(var_dic_list()) "
    }
   },
   "types_to_exclude": [
    "module",
    "function",
    "builtin_function_or_method",
    "instance",
    "_Feature"
   ],
   "window_display": false
  }
 },
 "nbformat": 4,
<<<<<<< HEAD
 "nbformat_minor": 4
=======
 "nbformat_minor": 2
>>>>>>> c2db2e25f3cd8499c77c647e415dc63629c5f6c3
}
